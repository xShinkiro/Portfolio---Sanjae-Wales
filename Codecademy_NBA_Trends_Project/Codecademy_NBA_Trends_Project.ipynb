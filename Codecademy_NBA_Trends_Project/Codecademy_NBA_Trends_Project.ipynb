{
 "cells": [
  {
   "cell_type": "markdown",
   "metadata": {},
   "source": [
    "# Codecademy [NBA Trends Project](https://www.codecademy.com/projects/practice/nba-trends)\n",
    "\n",
    "*Analyze National Basketball Association (NBA) data to look at associations between teams, win-rates, playoff appearances, and more.*"
   ]
  },
  {
   "cell_type": "markdown",
   "metadata": {},
   "source": [
    "In this project, you'll analyze data from the NBA (National Basketball Association) and explore possible associations. \n",
    "\n",
    "This data was originally sourced from 538's Analysis of the [Complete History Of The NBA](http://fivethirtyeight.com/interactives/the-complete-history-of-every-nba-team-by-elo) and contains the original, unmodified data from [Basketball Reference](http://www.basketball-reference.com/) as well as several additional variables 538 added to perform their own analysis. \n",
    "\n",
    "You can read more about the data and how it's being used by 538 [here](https://github.com/fivethirtyeight/data/tree/master/nba-elo). For this project we've limited the data to just 5 teams and 10 columns (plus one constructed column, `point_diff`, the difference between `pts` and `opp_pts`).\n",
    "\n",
    "You will create several charts and tables in this project, so you'll need to use `plt.clf()` between plots in your code so that the plots don't layer on top of one another.\n"
   ]
  },
  {
   "cell_type": "code",
   "execution_count": 17,
   "metadata": {},
   "outputs": [],
   "source": [
    "import pandas as pd\n",
    "import numpy as np\n",
    "from scipy.stats import pearsonr, chi2_contingency\n",
    "import matplotlib.pyplot as plt\n",
    "import seaborn as sns"
   ]
  },
  {
   "cell_type": "code",
   "execution_count": 18,
   "metadata": {},
   "outputs": [],
   "source": [
    "#to make the output look nicer\n",
    "np.set_printoptions(suppress=True, precision = 2)"
   ]
  },
  {
   "cell_type": "code",
   "execution_count": 37,
   "metadata": {},
   "outputs": [
    {
     "data": {
      "text/html": [
       "<div>\n",
       "<style scoped>\n",
       "    .dataframe tbody tr th:only-of-type {\n",
       "        vertical-align: middle;\n",
       "    }\n",
       "\n",
       "    .dataframe tbody tr th {\n",
       "        vertical-align: top;\n",
       "    }\n",
       "\n",
       "    .dataframe thead th {\n",
       "        text-align: right;\n",
       "    }\n",
       "</style>\n",
       "<table border=\"1\" class=\"dataframe\">\n",
       "  <thead>\n",
       "    <tr style=\"text-align: right;\">\n",
       "      <th></th>\n",
       "      <th>game_id</th>\n",
       "      <th>year_id</th>\n",
       "      <th>fran_id</th>\n",
       "      <th>opp_fran</th>\n",
       "      <th>game_location</th>\n",
       "      <th>is_playoffs</th>\n",
       "      <th>pts</th>\n",
       "      <th>opp_pts</th>\n",
       "      <th>game_result</th>\n",
       "      <th>forecast</th>\n",
       "      <th>point_diff</th>\n",
       "    </tr>\n",
       "  </thead>\n",
       "  <tbody>\n",
       "    <tr>\n",
       "      <th>0</th>\n",
       "      <td>194611010TRH</td>\n",
       "      <td>1947</td>\n",
       "      <td>Knicks</td>\n",
       "      <td>Huskies</td>\n",
       "      <td>A</td>\n",
       "      <td>0</td>\n",
       "      <td>68</td>\n",
       "      <td>66</td>\n",
       "      <td>W</td>\n",
       "      <td>0.359935</td>\n",
       "      <td>2</td>\n",
       "    </tr>\n",
       "    <tr>\n",
       "      <th>1</th>\n",
       "      <td>194611020CHS</td>\n",
       "      <td>1947</td>\n",
       "      <td>Knicks</td>\n",
       "      <td>Stags</td>\n",
       "      <td>A</td>\n",
       "      <td>0</td>\n",
       "      <td>47</td>\n",
       "      <td>63</td>\n",
       "      <td>L</td>\n",
       "      <td>0.368899</td>\n",
       "      <td>-16</td>\n",
       "    </tr>\n",
       "    <tr>\n",
       "      <th>2</th>\n",
       "      <td>194611020PRO</td>\n",
       "      <td>1947</td>\n",
       "      <td>Celtics</td>\n",
       "      <td>Steamrollers</td>\n",
       "      <td>A</td>\n",
       "      <td>0</td>\n",
       "      <td>53</td>\n",
       "      <td>59</td>\n",
       "      <td>L</td>\n",
       "      <td>0.359935</td>\n",
       "      <td>-6</td>\n",
       "    </tr>\n",
       "    <tr>\n",
       "      <th>3</th>\n",
       "      <td>194611050BOS</td>\n",
       "      <td>1947</td>\n",
       "      <td>Celtics</td>\n",
       "      <td>Stags</td>\n",
       "      <td>H</td>\n",
       "      <td>0</td>\n",
       "      <td>55</td>\n",
       "      <td>57</td>\n",
       "      <td>L</td>\n",
       "      <td>0.620204</td>\n",
       "      <td>-2</td>\n",
       "    </tr>\n",
       "    <tr>\n",
       "      <th>4</th>\n",
       "      <td>194611070STB</td>\n",
       "      <td>1947</td>\n",
       "      <td>Knicks</td>\n",
       "      <td>Bombers</td>\n",
       "      <td>A</td>\n",
       "      <td>0</td>\n",
       "      <td>68</td>\n",
       "      <td>63</td>\n",
       "      <td>W</td>\n",
       "      <td>0.339290</td>\n",
       "      <td>5</td>\n",
       "    </tr>\n",
       "    <tr>\n",
       "      <th>5</th>\n",
       "      <td>194611090DTF</td>\n",
       "      <td>1947</td>\n",
       "      <td>Celtics</td>\n",
       "      <td>Falcons</td>\n",
       "      <td>A</td>\n",
       "      <td>0</td>\n",
       "      <td>46</td>\n",
       "      <td>69</td>\n",
       "      <td>L</td>\n",
       "      <td>0.386818</td>\n",
       "      <td>-23</td>\n",
       "    </tr>\n",
       "    <tr>\n",
       "      <th>6</th>\n",
       "      <td>194611110NYK</td>\n",
       "      <td>1947</td>\n",
       "      <td>Knicks</td>\n",
       "      <td>Stags</td>\n",
       "      <td>H</td>\n",
       "      <td>0</td>\n",
       "      <td>68</td>\n",
       "      <td>78</td>\n",
       "      <td>L</td>\n",
       "      <td>0.629479</td>\n",
       "      <td>-10</td>\n",
       "    </tr>\n",
       "    <tr>\n",
       "      <th>7</th>\n",
       "      <td>194611130CHS</td>\n",
       "      <td>1947</td>\n",
       "      <td>Celtics</td>\n",
       "      <td>Stags</td>\n",
       "      <td>A</td>\n",
       "      <td>0</td>\n",
       "      <td>61</td>\n",
       "      <td>71</td>\n",
       "      <td>L</td>\n",
       "      <td>0.291740</td>\n",
       "      <td>-10</td>\n",
       "    </tr>\n",
       "    <tr>\n",
       "      <th>8</th>\n",
       "      <td>194611140STB</td>\n",
       "      <td>1947</td>\n",
       "      <td>Celtics</td>\n",
       "      <td>Bombers</td>\n",
       "      <td>A</td>\n",
       "      <td>0</td>\n",
       "      <td>62</td>\n",
       "      <td>64</td>\n",
       "      <td>L</td>\n",
       "      <td>0.313890</td>\n",
       "      <td>-2</td>\n",
       "    </tr>\n",
       "    <tr>\n",
       "      <th>9</th>\n",
       "      <td>194611160BOS</td>\n",
       "      <td>1947</td>\n",
       "      <td>Celtics</td>\n",
       "      <td>Huskies</td>\n",
       "      <td>H</td>\n",
       "      <td>0</td>\n",
       "      <td>53</td>\n",
       "      <td>49</td>\n",
       "      <td>W</td>\n",
       "      <td>0.602702</td>\n",
       "      <td>4</td>\n",
       "    </tr>\n",
       "    <tr>\n",
       "      <th>10</th>\n",
       "      <td>194611160NYK</td>\n",
       "      <td>1947</td>\n",
       "      <td>Knicks</td>\n",
       "      <td>Ironmen</td>\n",
       "      <td>H</td>\n",
       "      <td>0</td>\n",
       "      <td>64</td>\n",
       "      <td>62</td>\n",
       "      <td>W</td>\n",
       "      <td>0.660557</td>\n",
       "      <td>2</td>\n",
       "    </tr>\n",
       "    <tr>\n",
       "      <th>11</th>\n",
       "      <td>194611180NYK</td>\n",
       "      <td>1947</td>\n",
       "      <td>Knicks</td>\n",
       "      <td>Falcons</td>\n",
       "      <td>H</td>\n",
       "      <td>0</td>\n",
       "      <td>61</td>\n",
       "      <td>57</td>\n",
       "      <td>W</td>\n",
       "      <td>0.645759</td>\n",
       "      <td>4</td>\n",
       "    </tr>\n",
       "    <tr>\n",
       "      <th>12</th>\n",
       "      <td>194611200NYK</td>\n",
       "      <td>1947</td>\n",
       "      <td>Knicks</td>\n",
       "      <td>Stags</td>\n",
       "      <td>H</td>\n",
       "      <td>0</td>\n",
       "      <td>72</td>\n",
       "      <td>69</td>\n",
       "      <td>W</td>\n",
       "      <td>0.602621</td>\n",
       "      <td>3</td>\n",
       "    </tr>\n",
       "    <tr>\n",
       "      <th>13</th>\n",
       "      <td>194611210BOS</td>\n",
       "      <td>1947</td>\n",
       "      <td>Celtics</td>\n",
       "      <td>Bombers</td>\n",
       "      <td>H</td>\n",
       "      <td>0</td>\n",
       "      <td>53</td>\n",
       "      <td>65</td>\n",
       "      <td>L</td>\n",
       "      <td>0.575068</td>\n",
       "      <td>-12</td>\n",
       "    </tr>\n",
       "    <tr>\n",
       "      <th>14</th>\n",
       "      <td>194611220TRH</td>\n",
       "      <td>1947</td>\n",
       "      <td>Celtics</td>\n",
       "      <td>Huskies</td>\n",
       "      <td>A</td>\n",
       "      <td>0</td>\n",
       "      <td>82</td>\n",
       "      <td>83</td>\n",
       "      <td>L</td>\n",
       "      <td>0.333486</td>\n",
       "      <td>-1</td>\n",
       "    </tr>\n",
       "    <tr>\n",
       "      <th>15</th>\n",
       "      <td>194611230DTF</td>\n",
       "      <td>1947</td>\n",
       "      <td>Celtics</td>\n",
       "      <td>Falcons</td>\n",
       "      <td>A</td>\n",
       "      <td>0</td>\n",
       "      <td>46</td>\n",
       "      <td>54</td>\n",
       "      <td>L</td>\n",
       "      <td>0.325526</td>\n",
       "      <td>-8</td>\n",
       "    </tr>\n",
       "    <tr>\n",
       "      <th>16</th>\n",
       "      <td>194611230NYK</td>\n",
       "      <td>1947</td>\n",
       "      <td>Knicks</td>\n",
       "      <td>Rebels</td>\n",
       "      <td>H</td>\n",
       "      <td>0</td>\n",
       "      <td>82</td>\n",
       "      <td>76</td>\n",
       "      <td>W</td>\n",
       "      <td>0.627535</td>\n",
       "      <td>6</td>\n",
       "    </tr>\n",
       "    <tr>\n",
       "      <th>17</th>\n",
       "      <td>194611250BOS</td>\n",
       "      <td>1947</td>\n",
       "      <td>Celtics</td>\n",
       "      <td>Steamrollers</td>\n",
       "      <td>H</td>\n",
       "      <td>0</td>\n",
       "      <td>59</td>\n",
       "      <td>71</td>\n",
       "      <td>L</td>\n",
       "      <td>0.618788</td>\n",
       "      <td>-12</td>\n",
       "    </tr>\n",
       "    <tr>\n",
       "      <th>18</th>\n",
       "      <td>194611250PIT</td>\n",
       "      <td>1947</td>\n",
       "      <td>Knicks</td>\n",
       "      <td>Ironmen</td>\n",
       "      <td>A</td>\n",
       "      <td>0</td>\n",
       "      <td>62</td>\n",
       "      <td>46</td>\n",
       "      <td>W</td>\n",
       "      <td>0.396477</td>\n",
       "      <td>16</td>\n",
       "    </tr>\n",
       "    <tr>\n",
       "      <th>19</th>\n",
       "      <td>194611260GSW</td>\n",
       "      <td>1947</td>\n",
       "      <td>Celtics</td>\n",
       "      <td>Warriors</td>\n",
       "      <td>A</td>\n",
       "      <td>0</td>\n",
       "      <td>54</td>\n",
       "      <td>66</td>\n",
       "      <td>L</td>\n",
       "      <td>0.284634</td>\n",
       "      <td>-12</td>\n",
       "    </tr>\n",
       "  </tbody>\n",
       "</table>\n",
       "</div>"
      ],
      "text/plain": [
       "         game_id  year_id  fran_id      opp_fran game_location  is_playoffs  \\\n",
       "0   194611010TRH     1947   Knicks       Huskies             A            0   \n",
       "1   194611020CHS     1947   Knicks         Stags             A            0   \n",
       "2   194611020PRO     1947  Celtics  Steamrollers             A            0   \n",
       "3   194611050BOS     1947  Celtics         Stags             H            0   \n",
       "4   194611070STB     1947   Knicks       Bombers             A            0   \n",
       "5   194611090DTF     1947  Celtics       Falcons             A            0   \n",
       "6   194611110NYK     1947   Knicks         Stags             H            0   \n",
       "7   194611130CHS     1947  Celtics         Stags             A            0   \n",
       "8   194611140STB     1947  Celtics       Bombers             A            0   \n",
       "9   194611160BOS     1947  Celtics       Huskies             H            0   \n",
       "10  194611160NYK     1947   Knicks       Ironmen             H            0   \n",
       "11  194611180NYK     1947   Knicks       Falcons             H            0   \n",
       "12  194611200NYK     1947   Knicks         Stags             H            0   \n",
       "13  194611210BOS     1947  Celtics       Bombers             H            0   \n",
       "14  194611220TRH     1947  Celtics       Huskies             A            0   \n",
       "15  194611230DTF     1947  Celtics       Falcons             A            0   \n",
       "16  194611230NYK     1947   Knicks        Rebels             H            0   \n",
       "17  194611250BOS     1947  Celtics  Steamrollers             H            0   \n",
       "18  194611250PIT     1947   Knicks       Ironmen             A            0   \n",
       "19  194611260GSW     1947  Celtics      Warriors             A            0   \n",
       "\n",
       "    pts  opp_pts game_result  forecast  point_diff  \n",
       "0    68       66           W  0.359935           2  \n",
       "1    47       63           L  0.368899         -16  \n",
       "2    53       59           L  0.359935          -6  \n",
       "3    55       57           L  0.620204          -2  \n",
       "4    68       63           W  0.339290           5  \n",
       "5    46       69           L  0.386818         -23  \n",
       "6    68       78           L  0.629479         -10  \n",
       "7    61       71           L  0.291740         -10  \n",
       "8    62       64           L  0.313890          -2  \n",
       "9    53       49           W  0.602702           4  \n",
       "10   64       62           W  0.660557           2  \n",
       "11   61       57           W  0.645759           4  \n",
       "12   72       69           W  0.602621           3  \n",
       "13   53       65           L  0.575068         -12  \n",
       "14   82       83           L  0.333486          -1  \n",
       "15   46       54           L  0.325526          -8  \n",
       "16   82       76           W  0.627535           6  \n",
       "17   59       71           L  0.618788         -12  \n",
       "18   62       46           W  0.396477          16  \n",
       "19   54       66           L  0.284634         -12  "
      ]
     },
     "execution_count": 37,
     "metadata": {},
     "output_type": "execute_result"
    }
   ],
   "source": [
    "nba = pd.read_csv('nba_games.csv')\n",
    "nba.head(20)"
   ]
  },
  {
   "cell_type": "code",
   "execution_count": 20,
   "metadata": {},
   "outputs": [],
   "source": [
    "# Subset Data to 2010 Season, 2014 Season\n",
    "nba_2010 = nba[nba.year_id == 2010]\n",
    "nba_2014 = nba[nba.year_id == 2014]"
   ]
  },
  {
   "cell_type": "markdown",
   "metadata": {},
   "source": [
    "### Task 1\n",
    "The data has been subset for you into two smaller datasets: games from 2010 (named nba_2010) and games from 2014 (named nba_2014). To start, let’s focus on the 2010 data.\n",
    "\n",
    "Suppose you want to compare the knicks to the nets with respect to points earned per game. Using the pts column from the nba_2010 DataFrame, create two series named knicks_pts (fran_id = \"Knicks\") and nets_pts(fran_id = \"Nets\") that represent the points each team has scored in their games.\n"
   ]
  },
  {
   "cell_type": "code",
   "execution_count": 21,
   "metadata": {},
   "outputs": [
    {
     "data": {
      "text/plain": [
       "21720     93\n",
       "21727     85\n",
       "21730    104\n",
       "21733     68\n",
       "21738     94\n",
       "        ... \n",
       "22103     89\n",
       "22108    127\n",
       "22113    102\n",
       "22117     95\n",
       "22124     86\n",
       "Name: pts, Length: 82, dtype: int64"
      ]
     },
     "execution_count": 21,
     "metadata": {},
     "output_type": "execute_result"
    }
   ],
   "source": [
    "knicks_pts_2010 = nba_2010.pts[nba_2010.fran_id == 'Knicks']\n",
    "nets_pts_2010 = nba_2010.pts[nba_2010.fran_id == 'Nets']\n",
    "knicks_pts_2010\n",
    "nets_pts_2010\n"
   ]
  },
  {
   "cell_type": "markdown",
   "metadata": {},
   "source": [
    "### Task 2\n",
    "\n",
    "Calculate the difference between the two teams’ average points scored and save the result as diff_means_2010. Based on this value, do you think fran_id and pts are associated? Why or why not?\n"
   ]
  },
  {
   "cell_type": "code",
   "execution_count": 44,
   "metadata": {},
   "outputs": [
    {
     "data": {
      "text/plain": [
       "('The difference in means for 2010 is', 9.731707317073173)"
      ]
     },
     "execution_count": 44,
     "metadata": {},
     "output_type": "execute_result"
    }
   ],
   "source": [
    "knicks_pts_2010_mean = np.mean(knicks_pts_2010)\n",
    "nets_pts_2010_mean = np.mean(nets_pts_2010)\n",
    "\n",
    "diff_means_2010= knicks_pts_2010_mean - nets_pts_2010_mean\n",
    "\n",
    "'The difference in means for 2010 is', diff_means_2010\n",
    "\n"
   ]
  },
  {
   "cell_type": "markdown",
   "metadata": {},
   "source": [
    "### Task 3\n",
    "Rather than comparing means, it’s useful look at the full distribution of values to understand whether a difference in means is meaningful. Create a set of overlapping histograms that can be used to compare the points scored for the Knicks compared to the Nets. Use the series you created in the previous step (1) and the code below to create the plot. Do the distributions appear to be the same?\n"
   ]
  },
  {
   "cell_type": "code",
   "execution_count": 46,
   "metadata": {},
   "outputs": [
    {
     "data": {
      "text/plain": [
       "<function matplotlib.pyplot.clf()>"
      ]
     },
     "execution_count": 46,
     "metadata": {},
     "output_type": "execute_result"
    },
    {
     "data": {
      "image/png": "[encoded data removed]",
      "text/plain": [
       "<Figure size 640x480 with 1 Axes>"
      ]
     },
     "metadata": {},
     "output_type": "display_data"
    }
   ],
   "source": [
    "plt.hist(knicks_pts_2010, color = 'teal', label = 'Knicks', alpha = .5)\n",
    "plt.hist(nets_pts_2010, color = 'Orange', label = 'Nets', alpha = .5)\n",
    "plt.title('2010')\n",
    "plt.legend()\n",
    "plt.show\n",
    "plt.clf"
   ]
  },
  {
   "cell_type": "markdown",
   "metadata": {},
   "source": [
    "### Task 4\n",
    "Now, let’s compare the 2010 games to 2014. Replicate the steps from Tasks 2 and 3 using `nba_2014`. First, calculate the mean difference between the two teams points scored. Save and print the value as `diff_means_2014`. Did the difference in points get larger or smaller in 2014? Then, plot the overlapping histograms. Does the mean difference you calculated make sense?\n"
   ]
  },
  {
   "cell_type": "code",
   "execution_count": 45,
   "metadata": {},
   "outputs": [
    {
     "name": "stdout",
     "output_type": "stream",
     "text": [
      "98.58536585365853 98.13829787234043 The difference in means for 2014 is 0.44706798131809933\n"
     ]
    },
    {
     "data": {
      "text/plain": [
       "<function matplotlib.pyplot.clf()>"
      ]
     },
     "execution_count": 45,
     "metadata": {},
     "output_type": "execute_result"
    },
    {
     "data": {
      "image/png": "[encoded data removed]",
      "text/plain": [
       "<Figure size 640x480 with 1 Axes>"
      ]
     },
     "metadata": {},
     "output_type": "display_data"
    }
   ],
   "source": [
    "knicks_pts_2014 = nba_2014.pts[nba_2014.fran_id == 'Knicks']\n",
    "nets_pts_2014 = nba_2014.pts[nba_2014.fran_id == 'Nets']\n",
    "knicks_pts_2014\n",
    "nets_pts_2014\n",
    "\n",
    "knicks_pts_2014_mean = np.mean(knicks_pts_2014)\n",
    "nets_pts_2014_mean = np.mean(nets_pts_2014)\n",
    "\n",
    "diff_means_2014= knicks_pts_2014_mean - nets_pts_2014_mean\n",
    "\n",
    "print(knicks_pts_2014_mean,nets_pts_2014_mean, 'The difference in means for 2014 is', diff_means_2014)\n",
    "\n",
    "plt.hist(knicks_pts_2014, color = 'teal', density = True, label = 'Knicks', alpha = .5)\n",
    "plt.hist(nets_pts_2014, color = 'Orange', density = True, label = 'Nets', alpha = .5)\n",
    "plt.title('2014')\n",
    "plt.legend()\n",
    "plt.show\n",
    "plt.clf"
   ]
  },
  {
   "cell_type": "markdown",
   "metadata": {},
   "source": [
    "### Task 5\n",
    "For the remainder of this project, we’ll focus on data from 2010. Let’s now include all teams in the dataset and investigate the relationship between franchise and points scored per game.\n",
    "\n",
    "Using nba_2010, generate side-by-side boxplots with points scored (pts) on the y-axis and team (fran_id) on the x-axis. Is there any overlap between the boxes? Does this chart suggest that fran_id and pts are associated? Which pairs of teams, if any, earn different average scores per game?\n"
   ]
  },
  {
   "cell_type": "code",
   "execution_count": 34,
   "metadata": {},
   "outputs": [
    {
     "data": {
      "image/png": "[encoded data removed]",
      "text/plain": [
       "<Figure size 640x480 with 1 Axes>"
      ]
     },
     "metadata": {},
     "output_type": "display_data"
    },
    {
     "data": {
      "text/plain": [
       "<function matplotlib.pyplot.clf()>"
      ]
     },
     "execution_count": 34,
     "metadata": {},
     "output_type": "execute_result"
    }
   ],
   "source": [
    "sns.boxplot(data = nba_2010, x = 'fran_id', y = 'pts')\n",
    "plt.show()\n",
    "plt.clf"
   ]
  },
  {
   "cell_type": "markdown",
   "metadata": {},
   "source": [
    "### Task 6\n",
    "We'd like to know if teams tend to win more games at home compared to away.\n",
    "\n",
    "The variable, `game_result`, indicates whether a team won a particular game ('W' stands for “win” and 'L' stands for “loss”). The variable, `game_location`, indicates whether a team was playing at home or away ('H' stands for “home” and 'A' stands for “away”). \n",
    "\n",
    "Data scientists will often calculate a contingency table of frequencies to help them determine if categorical variables are associated. Calculate a table of frequencies that shows the counts of game_result and game_location.\n",
    "\n",
    "Save your result as `location_result_freq` and print your result. Based on this table, do you think the variables are associated?`\n"
   ]
  },
  {
   "cell_type": "code",
   "execution_count": 47,
   "metadata": {},
   "outputs": [
    {
     "data": {
      "text/html": [
       "<div>\n",
       "<style scoped>\n",
       "    .dataframe tbody tr th:only-of-type {\n",
       "        vertical-align: middle;\n",
       "    }\n",
       "\n",
       "    .dataframe tbody tr th {\n",
       "        vertical-align: top;\n",
       "    }\n",
       "\n",
       "    .dataframe thead th {\n",
       "        text-align: right;\n",
       "    }\n",
       "</style>\n",
       "<table border=\"1\" class=\"dataframe\">\n",
       "  <thead>\n",
       "    <tr style=\"text-align: right;\">\n",
       "      <th>game_location</th>\n",
       "      <th>A</th>\n",
       "      <th>H</th>\n",
       "    </tr>\n",
       "    <tr>\n",
       "      <th>game_result</th>\n",
       "      <th></th>\n",
       "      <th></th>\n",
       "    </tr>\n",
       "  </thead>\n",
       "  <tbody>\n",
       "    <tr>\n",
       "      <th>L</th>\n",
       "      <td>133</td>\n",
       "      <td>105</td>\n",
       "    </tr>\n",
       "    <tr>\n",
       "      <th>W</th>\n",
       "      <td>92</td>\n",
       "      <td>120</td>\n",
       "    </tr>\n",
       "  </tbody>\n",
       "</table>\n",
       "</div>"
      ],
      "text/plain": [
       "game_location    A    H\n",
       "game_result            \n",
       "L              133  105\n",
       "W               92  120"
      ]
     },
     "execution_count": 47,
     "metadata": {},
     "output_type": "execute_result"
    }
   ],
   "source": [
    "location_result_freq= pd.crosstab(nba_2010.game_result, nba.game_location)\n",
    "location_result_freq"
   ]
  },
  {
   "cell_type": "markdown",
   "metadata": {},
   "source": [
    "### Task 7\n",
    "\n",
    "Convert this table of frequencies to a table of proportions and save the result as `location_result_proportions`."
   ]
  },
  {
   "cell_type": "code",
   "execution_count": 48,
   "metadata": {},
   "outputs": [
    {
     "data": {
      "text/html": [
       "<div>\n",
       "<style scoped>\n",
       "    .dataframe tbody tr th:only-of-type {\n",
       "        vertical-align: middle;\n",
       "    }\n",
       "\n",
       "    .dataframe tbody tr th {\n",
       "        vertical-align: top;\n",
       "    }\n",
       "\n",
       "    .dataframe thead th {\n",
       "        text-align: right;\n",
       "    }\n",
       "</style>\n",
       "<table border=\"1\" class=\"dataframe\">\n",
       "  <thead>\n",
       "    <tr style=\"text-align: right;\">\n",
       "      <th>game_location</th>\n",
       "      <th>A</th>\n",
       "      <th>H</th>\n",
       "    </tr>\n",
       "    <tr>\n",
       "      <th>game_result</th>\n",
       "      <th></th>\n",
       "      <th></th>\n",
       "    </tr>\n",
       "  </thead>\n",
       "  <tbody>\n",
       "    <tr>\n",
       "      <th>L</th>\n",
       "      <td>0.005460</td>\n",
       "      <td>0.004311</td>\n",
       "    </tr>\n",
       "    <tr>\n",
       "      <th>W</th>\n",
       "      <td>0.003777</td>\n",
       "      <td>0.004926</td>\n",
       "    </tr>\n",
       "  </tbody>\n",
       "</table>\n",
       "</div>"
      ],
      "text/plain": [
       "game_location         A         H\n",
       "game_result                      \n",
       "L              0.005460  0.004311\n",
       "W              0.003777  0.004926"
      ]
     },
     "execution_count": 48,
     "metadata": {},
     "output_type": "execute_result"
    }
   ],
   "source": [
    "location_result_proportions = location_result_freq/ len(nba)\n",
    "location_result_proportions"
   ]
  },
  {
   "cell_type": "markdown",
   "metadata": {},
   "source": [
    "### Task 8\n",
    "Using the contingency table created above (Task 6), calculate the expected contingency table (if there were no association) and the Chi-Square statistic.\n",
    "\n",
    "Does the actual contingency table look similar to the expected table — or different? Based on this output, do you think there is an association between these variables?\n"
   ]
  },
  {
   "cell_type": "code",
   "execution_count": 49,
   "metadata": {},
   "outputs": [
    {
     "data": {
      "text/plain": [
       "(array([[119., 119.],\n",
       "        [106., 106.]]),\n",
       " 6.501704455367053)"
      ]
     },
     "execution_count": 49,
     "metadata": {},
     "output_type": "execute_result"
    }
   ],
   "source": [
    "chi2, pval, dof, expected = chi2_contingency(location_result_freq)\n",
    "expected,chi2\n"
   ]
  },
  {
   "cell_type": "markdown",
   "metadata": {},
   "source": [
    "*For a 2x2 table, Chi-squared greater than about 4 indicates an association. We're not there*"
   ]
  },
  {
   "cell_type": "markdown",
   "metadata": {},
   "source": [
    "### Task 9\n",
    "\n",
    "For each game, 538 has calculated the probability that each team will win the game. We want to know if teams with a higher probability of winning (according to 538) also tend to win games by more points. \n",
    "\n",
    "In the data, 538's prediction is saved as `forecast`. The `point_diff` column gives the margin of victory/defeat for each team (positive values mean that the team won; negative values mean that they lost). \n",
    "\n",
    "Using `nba_2010`, calculate the covariance between `forecast` (538's projected win probability) and `point_diff` (the margin of victory/defeat) in the dataset. Save and print your result. Looking at the matrix, what is the covariance between these two variables?\n"
   ]
  },
  {
   "cell_type": "code",
   "execution_count": 60,
   "metadata": {},
   "outputs": [],
   "source": [
    "nba_2010_cov_mat = np.cov(nba_2010.forecast, nba_2010.point_diff)\n",
    "nba_2010_cov_mat\n",
    "nba_2010_cov = 1.37\n"
   ]
  },
  {
   "cell_type": "markdown",
   "metadata": {},
   "source": [
    "### Task 10\n",
    "\n",
    "Because 538’s forecast variable is reported as a probability (not a binary), we can calculate the strength of the correlation.\n",
    "\n",
    "Using nba_2010, calculate the correlation between `forecast` and `point_diff`. Call this `point_diff_forecast_corr`. Save and print your result. Does this value suggest an association between the two variables?\n"
   ]
  },
  {
   "cell_type": "code",
   "execution_count": 59,
   "metadata": {},
   "outputs": [
    {
     "data": {
      "text/plain": [
       "PearsonRResult(statistic=0.4402088708468084, pvalue=9.410391573137756e-23)"
      ]
     },
     "execution_count": 59,
     "metadata": {},
     "output_type": "execute_result"
    }
   ],
   "source": [
    "point_diff_forecast_corr = pearsonr(nba_2010.forecast, nba_2010.point_diff) \n",
    "point_diff_forecast_corr"
   ]
  },
  {
   "cell_type": "markdown",
   "metadata": {},
   "source": [
    "### Task 11\n",
    "\n",
    "Generate a scatter plot of `forecast` (on the x-axis) and `point_diff` (on the y-axis). Does the correlation value make sense?"
   ]
  },
  {
   "cell_type": "code",
   "execution_count": 66,
   "metadata": {},
   "outputs": [
    {
     "data": {
      "image/png": "[encoded data removed]",
      "text/plain": [
       "<Figure size 640x480 with 1 Axes>"
      ]
     },
     "metadata": {},
     "output_type": "display_data"
    },
    {
     "data": {
      "text/plain": [
       "<Figure size 640x480 with 0 Axes>"
      ]
     },
     "metadata": {},
     "output_type": "display_data"
    }
   ],
   "source": [
    "plt.scatter( \"forecast\", \"point_diff\", data = nba_2010)\n",
    "plt.xlabel('Forecast')\n",
    "plt.ylabel('Point_diff')\n",
    "plt.show()\n",
    "plt.clf()"
   ]
  },
  {
   "cell_type": "code",
   "execution_count": null,
   "metadata": {},
   "outputs": [],
   "source": []
  }
 ],
 "metadata": {
  "kernelspec": {
   "display_name": "Python 3 (ipykernel)",
   "language": "python",
   "name": "python3"
  },
  "language_info": {
   "codemirror_mode": {
    "name": "ipython",
    "version": 3
   },
   "file_extension": ".py",
   "mimetype": "text/x-python",
   "name": "python",
   "nbconvert_exporter": "python",
   "pygments_lexer": "ipython3",
   "version": "3.11.7"
  }
 },
 "nbformat": 4,
 "nbformat_minor": 4
}
